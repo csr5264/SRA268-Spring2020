{
  "nbformat": 4,
  "nbformat_minor": 0,
  "metadata": {
    "colab": {
      "name": "Lab2.ipynb",
      "provenance": [],
      "collapsed_sections": [],
      "include_colab_link": true
    },
    "kernelspec": {
      "name": "python3",
      "display_name": "Python 3"
    }
  },
  "cells": [
    {
      "cell_type": "markdown",
      "metadata": {
        "id": "view-in-github",
        "colab_type": "text"
      },
      "source": [
        "<a href=\"https://colab.research.google.com/github/csr5264/SRA268-Spring2020/blob/master/Lab2.ipynb\" target=\"_parent\"><img src=\"https://colab.research.google.com/assets/colab-badge.svg\" alt=\"Open In Colab\"/></a>"
      ]
    },
    {
      "cell_type": "markdown",
      "metadata": {
        "id": "6sOc4Uyr4U-Z",
        "colab_type": "text"
      },
      "source": [
        "## Graph Types"
      ]
    },
    {
      "cell_type": "markdown",
      "metadata": {
        "id": "0zZdVLAd5CYr",
        "colab_type": "text"
      },
      "source": [
        "Creator\n",
        "* Christopher Reeves "
      ]
    },
    {
      "cell_type": "markdown",
      "metadata": {
        "id": "g-r6Clq45Hn4",
        "colab_type": "text"
      },
      "source": [
        "### Deviation\n"
      ]
    },
    {
      "cell_type": "markdown",
      "metadata": {
        "id": "2gorxo6E7A0t",
        "colab_type": "text"
      },
      "source": [
        "![alt text](https://raw.githubusercontent.com/csr5264/SRA268-Spring2020/master/images/Devation.png)"
      ]
    },
    {
      "cell_type": "markdown",
      "metadata": {
        "id": "w6bZ_NEi7E3w",
        "colab_type": "text"
      },
      "source": [
        "#### What is this telling us?"
      ]
    },
    {
      "cell_type": "markdown",
      "metadata": {
        "id": "95L-spaC7QHF",
        "colab_type": "text"
      },
      "source": [
        "This graph shows us the average number of winning points on days of the week. The days that are negative had less then the average with some days having zero due to basketball not being played on those days and days like saturday where a lot of the games are played will have way higher than the average. The average that was calaculated in tableau was 23794 and the is where the graph diverges at 0. This garph is nice to visualize becasue we can see what days that most of the teams throughout all of the seasons have played their games on."
      ]
    },
    {
      "cell_type": "markdown",
      "metadata": {
        "id": "YgXyXjmz7cDP",
        "colab_type": "text"
      },
      "source": [
        "### Correlation\n"
      ]
    },
    {
      "cell_type": "markdown",
      "metadata": {
        "id": "SGx15rZq7hvt",
        "colab_type": "text"
      },
      "source": [
        "![alt text](https://raw.githubusercontent.com/csr5264/SRA268-Spring2020/master/images/Correlation.png)"
      ]
    },
    {
      "cell_type": "markdown",
      "metadata": {
        "id": "dljjONNi7jmj",
        "colab_type": "text"
      },
      "source": [
        "#### What is this telling us?"
      ]
    },
    {
      "cell_type": "markdown",
      "metadata": {
        "id": "PwZEZrFB7laG",
        "colab_type": "text"
      },
      "source": [
        "This graph is showing us that the correlation between winning points and losing points is the more points a team wins by the more points the oppisite team loses by. This data is also covering all of the winning points and losing points of all teams for all of the seasons included in this data. This graph shows that the correlation is indeed positive with a the graph centering around a positibve sloped line heading towards the upper right of the garph. "
      ]
    },
    {
      "cell_type": "markdown",
      "metadata": {
        "id": "MqUdI-uL7r2s",
        "colab_type": "text"
      },
      "source": [
        "### Ranking\n"
      ]
    },
    {
      "cell_type": "markdown",
      "metadata": {
        "id": "AvlxCOVt7x9F",
        "colab_type": "text"
      },
      "source": [
        "![alt text](https://raw.githubusercontent.com/csr5264/SRA268-Spring2020/master/images/Ranking.png)"
      ]
    },
    {
      "cell_type": "markdown",
      "metadata": {
        "id": "lCAYtfza7yTq",
        "colab_type": "text"
      },
      "source": [
        "#### What is this telling us?"
      ]
    },
    {
      "cell_type": "markdown",
      "metadata": {
        "id": "MyuciD277ygU",
        "colab_type": "text"
      },
      "source": [
        "The data that this graph represents is the academic year that had the winning points of all combined games of this season ranked from lowst (left) to highest (right). With this obviously this graph will have an upward trend since this is a ranking from the lowest to highest. The information that stood out on this graph is that besides 2 outliers most of the seasons and teams won by a similar amount of points. There wasn't a season where a team or many teams absolutly dominated other teams. This makes sense due to the teams basically being professional, however it is nice to see that in a visualized graph."
      ]
    },
    {
      "cell_type": "markdown",
      "metadata": {
        "id": "dGDGl8-G7y8Y",
        "colab_type": "text"
      },
      "source": [
        "### Distribution\n"
      ]
    },
    {
      "cell_type": "markdown",
      "metadata": {
        "id": "FB0uV-jy76p9",
        "colab_type": "text"
      },
      "source": [
        "![alt text](https://raw.githubusercontent.com/csr5264/SRA268-Spring2020/master/images/Distribution.png)"
      ]
    },
    {
      "cell_type": "markdown",
      "metadata": {
        "id": "_6SOzhrQ76zH",
        "colab_type": "text"
      },
      "source": [
        "#### What is this telling us?"
      ]
    },
    {
      "cell_type": "markdown",
      "metadata": {
        "id": "HBWqsS_g767h",
        "colab_type": "text"
      },
      "source": [
        "The data on this graph shows the worst teams over all the seasons in the data. These are the lose seeds numbers that consistantly underpreformed. This is also the total number of losing points on those losing seeds. For example, if one team was a losing team and more specificly number 16 towards the begging of the seasons according to the data, but then performed better for the most recent 20 years, then they would maybe be a lower ranked losing seed, or not even a losing seed at all. This data was helpful to see in a ranking graph and it shows the losing seeds being put in the proper order."
      ]
    },
    {
      "cell_type": "markdown",
      "metadata": {
        "id": "wQsDThk677Fy",
        "colab_type": "text"
      },
      "source": [
        "### Change over Time\n"
      ]
    },
    {
      "cell_type": "markdown",
      "metadata": {
        "id": "Z1j_YLOA7_OK",
        "colab_type": "text"
      },
      "source": [
        "![alt text](https://raw.githubusercontent.com/csr5264/SRA268-Spring2020/master/images/Real%20Change%20Over%20time.png)"
      ]
    },
    {
      "cell_type": "markdown",
      "metadata": {
        "id": "mpfsmmgi7_Vj",
        "colab_type": "text"
      },
      "source": [
        "#### What is this telling us?"
      ]
    },
    {
      "cell_type": "markdown",
      "metadata": {
        "id": "rYLXoMMO7_di",
        "colab_type": "text"
      },
      "source": [
        "This graph shows us all of the winning points over all of the seasons in the form of a line graph. This allows us to see which seasons had teams that would won by a lot and not necessarily have super close games. If they games where close they would have some of the lower winning pioints due to the winning points being number of points they won by and not total points in the game. Seeing this graph allows us to easily tell what where some of the best seasons to watch march madenss, the real nailbiters for college basketball."
      ]
    },
    {
      "cell_type": "markdown",
      "metadata": {
        "id": "lFwiHoE-7_jZ",
        "colab_type": "text"
      },
      "source": [
        "### Magnitude\n"
      ]
    },
    {
      "cell_type": "markdown",
      "metadata": {
        "id": "ICQFnXj78EbF",
        "colab_type": "text"
      },
      "source": [
        "![alt text](https://raw.githubusercontent.com/csr5264/SRA268-Spring2020/master/images/Magnitude%20Explain%20why%20only%20shows%20till%202010.png)"
      ]
    },
    {
      "cell_type": "markdown",
      "metadata": {
        "id": "QGG7XYG88Eii",
        "colab_type": "text"
      },
      "source": [
        "#### What is this telling us?"
      ]
    },
    {
      "cell_type": "markdown",
      "metadata": {
        "id": "VS7uGa0l8Eos",
        "colab_type": "text"
      },
      "source": [
        "This graph is similar to the last one change over time however it chows winning points and losing points. This allows us to visualize the magnitude of that some teams may have had over the seasons.  Some of the academic years had lower winning points and lower losing points and that may not of been a crazy high scoring season. This also us to see the fluctuation of the swings from season to season. This graph only shows until the 2010 academic year due to the graph being too big and not fitting on the screen."
      ]
    },
    {
      "cell_type": "markdown",
      "metadata": {
        "id": "bEKFxP8R8Evk",
        "colab_type": "text"
      },
      "source": [
        "### Part-to-Whole\n"
      ]
    },
    {
      "cell_type": "markdown",
      "metadata": {
        "id": "WFHlcYKV8E35",
        "colab_type": "text"
      },
      "source": [
        "![alt text](https://raw.githubusercontent.com/csr5264/SRA268-Spring2020/master/images/Part%20to%20Whole%20explain%20that%20this%20is%20the%20number%20of%20wins..png)"
      ]
    },
    {
      "cell_type": "markdown",
      "metadata": {
        "id": "PNSd3wlp8UZH",
        "colab_type": "text"
      },
      "source": [
        "#### What is this telling us?"
      ]
    },
    {
      "cell_type": "markdown",
      "metadata": {
        "id": "y9tb_QRA8aqt",
        "colab_type": "text"
      },
      "source": [
        "This graph is showing us the amount of championship wins each of the schools mascot species has. This graph allows us to see if multiple schools have one, the same species of mascots with championships, or two if some of the schools have the same species for their masocts then they will have a combined championship wins. This is nice to be able to see this data visualized becasue we not only get to see how many championships total there was acroos the seasons for colleges with animals as their mascots. This graphs issue is that it doesn't include wins for so me of the teams taht may not have an animal as their mascot. For example the East Stroudsburg warriors, or the New Jersey Devils. Teams that have somethign that isn't an animal as their mascot would not be included in this graph."
      ]
    }
  ]
}