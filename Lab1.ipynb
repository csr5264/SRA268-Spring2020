{
  "nbformat": 4,
  "nbformat_minor": 0,
  "metadata": {
    "colab": {
      "name": "Lab1.ipynb",
      "provenance": [],
      "authorship_tag": "ABX9TyNX7Z2qkCTmerGd6/8ybb76",
      "include_colab_link": true
    },
    "kernelspec": {
      "name": "python3",
      "display_name": "Python 3"
    }
  },
  "cells": [
    {
      "cell_type": "markdown",
      "metadata": {
        "id": "view-in-github",
        "colab_type": "text"
      },
      "source": [
        "<a href=\"https://colab.research.google.com/github/csr5264/SRA268-Spring2020/blob/master/Lab1.ipynb\" target=\"_parent\"><img src=\"https://colab.research.google.com/assets/colab-badge.svg\" alt=\"Open In Colab\"/></a>"
      ]
    },
    {
      "cell_type": "markdown",
      "metadata": {
        "id": "twHnnB57vxzC",
        "colab_type": "text"
      },
      "source": [
        "#Snowfall In State College From 2017-2019"
      ]
    },
    {
      "cell_type": "markdown",
      "metadata": {
        "id": "CtrEv0eo7bRA",
        "colab_type": "text"
      },
      "source": [
        "#Introduction\n",
        "This graph was created to measure the amount of snowfall that fell over a 3 year span in State College Pennsylvania. I have excluded april through november, including both, from this graph due to snowfall being a lot less likely in those months and to avoid any potentional outlier in my graph. The X-axis is showing the month the date and the year, while the Y-axis is representing the amount of snowfall in inches."
      ]
    },
    {
      "cell_type": "markdown",
      "metadata": {
        "id": "Wj20V2ps9peg",
        "colab_type": "text"
      },
      "source": [
        "![alt text](https://raw.githubusercontent.com/csr5264/SRA268-Spring2020/master/Screen%20Shot%202020-01-23%20at%207.15.53%20PM.png)"
      ]
    },
    {
      "cell_type": "markdown",
      "metadata": {
        "id": "JuiC8lXZ934k",
        "colab_type": "text"
      },
      "source": [
        "#Conclusions\n",
        "Currently I am enrolled here in a course at Penn State that talks about global warming and its effects on the earth. Before I made the graph i thought that maybe I would see an increase in the wheather pattenr over the 3 year span. However, this was not the case. I noticed that there was more snowfall in 2018 and 2019 than 2017, however the snowfall was less extreme in 2018 while it was more extreme in 2019."
      ]
    }
  ]
}